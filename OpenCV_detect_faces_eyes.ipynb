{
 "cells": [
  {
   "cell_type": "code",
   "execution_count": 1,
   "metadata": {},
   "outputs": [],
   "source": [
    "import cv2 \n",
    "import numpy as np"
   ]
  },
  {
   "cell_type": "code",
   "execution_count": 2,
   "metadata": {},
   "outputs": [],
   "source": [
    "# HAAR Cascade files\n",
    "cascade_eye = '/haarcascade_eye.xml'\n",
    "cascade_face ='/haarcascade_frontalface_alt.xml'"
   ]
  },
  {
   "cell_type": "code",
   "execution_count": 3,
   "metadata": {},
   "outputs": [],
   "source": [
    "face_classifier = cv2.CascadeClassifier(cascade_face)\n",
    "eye_classifier = cv2.CascadeClassifier(cascade_eye)"
   ]
  },
  {
   "cell_type": "code",
   "execution_count": 4,
   "metadata": {},
   "outputs": [],
   "source": [
    "# Reading images and converting to grayscale\n",
    "image = cv2.imread(r'/Caterina_Murino_1.jpg')\n",
    "gray = cv2.cvtColor(image, cv2.COLOR_BGR2GRAY)"
   ]
  },
  {
   "cell_type": "code",
   "execution_count": 5,
   "metadata": {},
   "outputs": [
    {
     "name": "stdout",
     "output_type": "stream",
     "text": [
      "[[351 149 365 365]]\n"
     ]
    }
   ],
   "source": [
    "# Detecting faces\n",
    "faces = face_classifier.detectMultiScale(gray, 1.3, 5)\n",
    "print (faces)"
   ]
  },
  {
   "cell_type": "code",
   "execution_count": 6,
   "metadata": {},
   "outputs": [
    {
     "name": "stdout",
     "output_type": "stream",
     "text": [
      "1\n",
      "[[ 61  94  83  83]\n",
      " [206 118  53  53]\n",
      " [124 122  46  46]]\n",
      "3\n"
     ]
    }
   ],
   "source": [
    "if faces.any():\n",
    "    for (x, y, w, h) in faces:\n",
    "        print (len(faces))\n",
    "        cv2.rectangle(image, (x, y), (x+w, y+h), (0,0,0), 3)\n",
    "        cv2.imshow(\"Face Detection\", image)\n",
    "        cv2.waitKey(0)\n",
    "\n",
    "        # Cropping the face found\n",
    "        area_gray = gray[y:y+h, x:x+w]\n",
    "        area_original = image[y:y+h, x:x+w]\n",
    "\n",
    "        # Detecting eyes\n",
    "        eyes = eye_classifier.detectMultiScale(area_gray)\n",
    "        print (eyes)\n",
    "        print (len(eyes))\n",
    "        for (ex, ey, ew, eh) in eyes:\n",
    "            cv2.rectangle(area_original, (ex, ey), (ex+ew, ey+eh), (0,255,0), 2)\n",
    "            cv2.imshow(\"Face Detection\", image)\n",
    "            cv2.waitKey(0)\n",
    "            \n",
    "elif faces is ():\n",
    "    print (\"No Faces Found\")\n",
    "\n",
    "cv2.destroyAllWindows()"
   ]
  },
  {
   "cell_type": "code",
   "execution_count": null,
   "metadata": {},
   "outputs": [],
   "source": []
  }
 ],
 "metadata": {
  "kernelspec": {
   "display_name": "Python 3",
   "language": "python",
   "name": "python3"
  },
  "language_info": {
   "codemirror_mode": {
    "name": "ipython",
    "version": 3
   },
   "file_extension": ".py",
   "mimetype": "text/x-python",
   "name": "python",
   "nbconvert_exporter": "python",
   "pygments_lexer": "ipython3",
   "version": "3.6.4"
  }
 },
 "nbformat": 4,
 "nbformat_minor": 2
}
